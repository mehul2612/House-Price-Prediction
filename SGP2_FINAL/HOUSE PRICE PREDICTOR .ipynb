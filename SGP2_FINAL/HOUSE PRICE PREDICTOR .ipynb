{
 "cells": [
  {
   "cell_type": "code",
   "execution_count": 8,
   "id": "f105bbd2",
   "metadata": {
    "pycharm": {
     "name": "#%%\n"
    }
   },
   "outputs": [
    {
     "ename": "ImportError",
     "evalue": "cannot import name 'artist' from 'matplotlib' (c:\\Users\\mehul chauhan\\AppData\\Local\\Programs\\Python\\Python310\\lib\\site-packages\\matplotlib\\__init__.py)",
     "output_type": "error",
     "traceback": [
      "\u001B[1;31m---------------------------------------------------------------------------\u001B[0m",
      "\u001B[1;31mImportError\u001B[0m                               Traceback (most recent call last)",
      "\u001B[1;32mc:\\Users\\mehul chauhan\\Downloads\\SGP2_FINAL\\HOUSE PRICE PREDICTOR .ipynb Cell 1\u001B[0m in \u001B[0;36m<cell line: 2>\u001B[1;34m()\u001B[0m\n\u001B[0;32m      <a href='vscode-notebook-cell:/c%3A/Users/mehul%20chauhan/Downloads/SGP2_FINAL/HOUSE%20PRICE%20PREDICTOR%20.ipynb#W0sZmlsZQ%3D%3D?line=0'>1</a>\u001B[0m \u001B[39mimport\u001B[39;00m \u001B[39mpandas\u001B[39;00m \u001B[39mas\u001B[39;00m \u001B[39mpd\u001B[39;00m\n\u001B[1;32m----> <a href='vscode-notebook-cell:/c%3A/Users/mehul%20chauhan/Downloads/SGP2_FINAL/HOUSE%20PRICE%20PREDICTOR%20.ipynb#W0sZmlsZQ%3D%3D?line=1'>2</a>\u001B[0m \u001B[39mimport\u001B[39;00m \u001B[39mseaborn\u001B[39;00m \u001B[39mas\u001B[39;00m \u001B[39msns\u001B[39;00m\n\u001B[0;32m      <a href='vscode-notebook-cell:/c%3A/Users/mehul%20chauhan/Downloads/SGP2_FINAL/HOUSE%20PRICE%20PREDICTOR%20.ipynb#W0sZmlsZQ%3D%3D?line=2'>3</a>\u001B[0m \u001B[39mfrom\u001B[39;00m \u001B[39mmatplotlib\u001B[39;00m \u001B[39mimport\u001B[39;00m pyplot \u001B[39mas\u001B[39;00m plt\n",
      "File \u001B[1;32mc:\\Users\\mehul chauhan\\AppData\\Local\\Programs\\Python\\Python310\\lib\\site-packages\\seaborn\\__init__.py:2\u001B[0m, in \u001B[0;36m<module>\u001B[1;34m\u001B[0m\n\u001B[0;32m      1\u001B[0m \u001B[39m# Import seaborn objects\u001B[39;00m\n\u001B[1;32m----> 2\u001B[0m \u001B[39mfrom\u001B[39;00m \u001B[39m.\u001B[39;00m\u001B[39mrcmod\u001B[39;00m \u001B[39mimport\u001B[39;00m \u001B[39m*\u001B[39m  \u001B[39m# noqa: F401,F403\u001B[39;00m\n\u001B[0;32m      3\u001B[0m \u001B[39mfrom\u001B[39;00m \u001B[39m.\u001B[39;00m\u001B[39mutils\u001B[39;00m \u001B[39mimport\u001B[39;00m \u001B[39m*\u001B[39m  \u001B[39m# noqa: F401,F403\u001B[39;00m\n\u001B[0;32m      4\u001B[0m \u001B[39mfrom\u001B[39;00m \u001B[39m.\u001B[39;00m\u001B[39mpalettes\u001B[39;00m \u001B[39mimport\u001B[39;00m \u001B[39m*\u001B[39m  \u001B[39m# noqa: F401,F403\u001B[39;00m\n",
      "File \u001B[1;32mc:\\Users\\mehul chauhan\\AppData\\Local\\Programs\\Python\\Python310\\lib\\site-packages\\seaborn\\rcmod.py:7\u001B[0m, in \u001B[0;36m<module>\u001B[1;34m\u001B[0m\n\u001B[0;32m      5\u001B[0m \u001B[39mimport\u001B[39;00m \u001B[39mmatplotlib\u001B[39;00m \u001B[39mas\u001B[39;00m \u001B[39mmpl\u001B[39;00m\n\u001B[0;32m      6\u001B[0m \u001B[39mfrom\u001B[39;00m \u001B[39mcycler\u001B[39;00m \u001B[39mimport\u001B[39;00m cycler\n\u001B[1;32m----> 7\u001B[0m \u001B[39mfrom\u001B[39;00m \u001B[39m.\u001B[39;00m \u001B[39mimport\u001B[39;00m palettes\n\u001B[0;32m     10\u001B[0m __all__ \u001B[39m=\u001B[39m [\u001B[39m\"\u001B[39m\u001B[39mset_theme\u001B[39m\u001B[39m\"\u001B[39m, \u001B[39m\"\u001B[39m\u001B[39mset\u001B[39m\u001B[39m\"\u001B[39m, \u001B[39m\"\u001B[39m\u001B[39mreset_defaults\u001B[39m\u001B[39m\"\u001B[39m, \u001B[39m\"\u001B[39m\u001B[39mreset_orig\u001B[39m\u001B[39m\"\u001B[39m,\n\u001B[0;32m     11\u001B[0m            \u001B[39m\"\u001B[39m\u001B[39maxes_style\u001B[39m\u001B[39m\"\u001B[39m, \u001B[39m\"\u001B[39m\u001B[39mset_style\u001B[39m\u001B[39m\"\u001B[39m, \u001B[39m\"\u001B[39m\u001B[39mplotting_context\u001B[39m\u001B[39m\"\u001B[39m, \u001B[39m\"\u001B[39m\u001B[39mset_context\u001B[39m\u001B[39m\"\u001B[39m,\n\u001B[0;32m     12\u001B[0m            \u001B[39m\"\u001B[39m\u001B[39mset_palette\u001B[39m\u001B[39m\"\u001B[39m]\n\u001B[0;32m     15\u001B[0m _style_keys \u001B[39m=\u001B[39m [\n\u001B[0;32m     16\u001B[0m \n\u001B[0;32m     17\u001B[0m     \u001B[39m\"\u001B[39m\u001B[39maxes.facecolor\u001B[39m\u001B[39m\"\u001B[39m,\n\u001B[1;32m   (...)\u001B[0m\n\u001B[0;32m     52\u001B[0m \n\u001B[0;32m     53\u001B[0m ]\n",
      "File \u001B[1;32mc:\\Users\\mehul chauhan\\AppData\\Local\\Programs\\Python\\Python310\\lib\\site-packages\\seaborn\\palettes.py:9\u001B[0m, in \u001B[0;36m<module>\u001B[1;34m\u001B[0m\n\u001B[0;32m      5\u001B[0m \u001B[39mimport\u001B[39;00m \u001B[39mmatplotlib\u001B[39;00m \u001B[39mas\u001B[39;00m \u001B[39mmpl\u001B[39;00m\n\u001B[0;32m      7\u001B[0m \u001B[39mfrom\u001B[39;00m \u001B[39m.\u001B[39;00m\u001B[39mexternal\u001B[39;00m \u001B[39mimport\u001B[39;00m husl\n\u001B[1;32m----> 9\u001B[0m \u001B[39mfrom\u001B[39;00m \u001B[39m.\u001B[39;00m\u001B[39mutils\u001B[39;00m \u001B[39mimport\u001B[39;00m desaturate, get_color_cycle\n\u001B[0;32m     10\u001B[0m \u001B[39mfrom\u001B[39;00m \u001B[39m.\u001B[39;00m\u001B[39mcolors\u001B[39;00m \u001B[39mimport\u001B[39;00m xkcd_rgb, crayons\n\u001B[0;32m     13\u001B[0m __all__ \u001B[39m=\u001B[39m [\u001B[39m\"\u001B[39m\u001B[39mcolor_palette\u001B[39m\u001B[39m\"\u001B[39m, \u001B[39m\"\u001B[39m\u001B[39mhls_palette\u001B[39m\u001B[39m\"\u001B[39m, \u001B[39m\"\u001B[39m\u001B[39mhusl_palette\u001B[39m\u001B[39m\"\u001B[39m, \u001B[39m\"\u001B[39m\u001B[39mmpl_palette\u001B[39m\u001B[39m\"\u001B[39m,\n\u001B[0;32m     14\u001B[0m            \u001B[39m\"\u001B[39m\u001B[39mdark_palette\u001B[39m\u001B[39m\"\u001B[39m, \u001B[39m\"\u001B[39m\u001B[39mlight_palette\u001B[39m\u001B[39m\"\u001B[39m, \u001B[39m\"\u001B[39m\u001B[39mdiverging_palette\u001B[39m\u001B[39m\"\u001B[39m,\n\u001B[0;32m     15\u001B[0m            \u001B[39m\"\u001B[39m\u001B[39mblend_palette\u001B[39m\u001B[39m\"\u001B[39m, \u001B[39m\"\u001B[39m\u001B[39mxkcd_palette\u001B[39m\u001B[39m\"\u001B[39m, \u001B[39m\"\u001B[39m\u001B[39mcrayon_palette\u001B[39m\u001B[39m\"\u001B[39m,\n\u001B[0;32m     16\u001B[0m            \u001B[39m\"\u001B[39m\u001B[39mcubehelix_palette\u001B[39m\u001B[39m\"\u001B[39m, \u001B[39m\"\u001B[39m\u001B[39mset_color_codes\u001B[39m\u001B[39m\"\u001B[39m]\n",
      "File \u001B[1;32mc:\\Users\\mehul chauhan\\AppData\\Local\\Programs\\Python\\Python310\\lib\\site-packages\\seaborn\\utils.py:14\u001B[0m, in \u001B[0;36m<module>\u001B[1;34m\u001B[0m\n\u001B[0;32m     12\u001B[0m \u001B[39mimport\u001B[39;00m \u001B[39mmatplotlib\u001B[39;00m \u001B[39mas\u001B[39;00m \u001B[39mmpl\u001B[39;00m\n\u001B[0;32m     13\u001B[0m \u001B[39mimport\u001B[39;00m \u001B[39mmatplotlib\u001B[39;00m\u001B[39m.\u001B[39;00m\u001B[39mcolors\u001B[39;00m \u001B[39mas\u001B[39;00m \u001B[39mmplcol\u001B[39;00m\n\u001B[1;32m---> 14\u001B[0m \u001B[39mimport\u001B[39;00m \u001B[39mmatplotlib\u001B[39;00m\u001B[39m.\u001B[39;00m\u001B[39mpyplot\u001B[39;00m \u001B[39mas\u001B[39;00m \u001B[39mplt\u001B[39;00m\n\u001B[0;32m     15\u001B[0m \u001B[39mfrom\u001B[39;00m \u001B[39mmatplotlib\u001B[39;00m\u001B[39m.\u001B[39;00m\u001B[39mcbook\u001B[39;00m \u001B[39mimport\u001B[39;00m normalize_kwargs\n\u001B[0;32m     18\u001B[0m __all__ \u001B[39m=\u001B[39m [\u001B[39m\"\u001B[39m\u001B[39mdesaturate\u001B[39m\u001B[39m\"\u001B[39m, \u001B[39m\"\u001B[39m\u001B[39msaturate\u001B[39m\u001B[39m\"\u001B[39m, \u001B[39m\"\u001B[39m\u001B[39mset_hls_values\u001B[39m\u001B[39m\"\u001B[39m, \u001B[39m\"\u001B[39m\u001B[39mmove_legend\u001B[39m\u001B[39m\"\u001B[39m,\n\u001B[0;32m     19\u001B[0m            \u001B[39m\"\u001B[39m\u001B[39mdespine\u001B[39m\u001B[39m\"\u001B[39m, \u001B[39m\"\u001B[39m\u001B[39mget_dataset_names\u001B[39m\u001B[39m\"\u001B[39m, \u001B[39m\"\u001B[39m\u001B[39mget_data_home\u001B[39m\u001B[39m\"\u001B[39m, \u001B[39m\"\u001B[39m\u001B[39mload_dataset\u001B[39m\u001B[39m\"\u001B[39m]\n",
      "File \u001B[1;32mc:\\Users\\mehul chauhan\\AppData\\Local\\Programs\\Python\\Python310\\lib\\site-packages\\matplotlib\\pyplot.py:49\u001B[0m, in \u001B[0;36m<module>\u001B[1;34m\u001B[0m\n\u001B[0;32m     47\u001B[0m \u001B[39mfrom\u001B[39;00m \u001B[39mcycler\u001B[39;00m \u001B[39mimport\u001B[39;00m cycler\n\u001B[0;32m     48\u001B[0m \u001B[39mimport\u001B[39;00m \u001B[39mmatplotlib\u001B[39;00m\n\u001B[1;32m---> 49\u001B[0m \u001B[39mimport\u001B[39;00m \u001B[39mmatplotlib\u001B[39;00m\u001B[39m.\u001B[39;00m\u001B[39mcolorbar\u001B[39;00m\n\u001B[0;32m     50\u001B[0m \u001B[39mimport\u001B[39;00m \u001B[39mmatplotlib\u001B[39;00m\u001B[39m.\u001B[39;00m\u001B[39mimage\u001B[39;00m\n\u001B[0;32m     51\u001B[0m \u001B[39mfrom\u001B[39;00m \u001B[39mmatplotlib\u001B[39;00m \u001B[39mimport\u001B[39;00m _api\n",
      "File \u001B[1;32mc:\\Users\\mehul chauhan\\AppData\\Local\\Programs\\Python\\Python310\\lib\\site-packages\\matplotlib\\colorbar.py:21\u001B[0m, in \u001B[0;36m<module>\u001B[1;34m\u001B[0m\n\u001B[0;32m     18\u001B[0m \u001B[39mimport\u001B[39;00m \u001B[39mnumpy\u001B[39;00m \u001B[39mas\u001B[39;00m \u001B[39mnp\u001B[39;00m\n\u001B[0;32m     20\u001B[0m \u001B[39mimport\u001B[39;00m \u001B[39mmatplotlib\u001B[39;00m \u001B[39mas\u001B[39;00m \u001B[39mmpl\u001B[39;00m\n\u001B[1;32m---> 21\u001B[0m \u001B[39mfrom\u001B[39;00m \u001B[39mmatplotlib\u001B[39;00m \u001B[39mimport\u001B[39;00m _api, collections, cm, colors, contour, ticker\n\u001B[0;32m     22\u001B[0m \u001B[39mimport\u001B[39;00m \u001B[39mmatplotlib\u001B[39;00m\u001B[39m.\u001B[39;00m\u001B[39martist\u001B[39;00m \u001B[39mas\u001B[39;00m \u001B[39mmartist\u001B[39;00m\n\u001B[0;32m     23\u001B[0m \u001B[39mimport\u001B[39;00m \u001B[39mmatplotlib\u001B[39;00m\u001B[39m.\u001B[39;00m\u001B[39mpatches\u001B[39;00m \u001B[39mas\u001B[39;00m \u001B[39mmpatches\u001B[39;00m\n",
      "File \u001B[1;32mc:\\Users\\mehul chauhan\\AppData\\Local\\Programs\\Python\\Python310\\lib\\site-packages\\matplotlib\\collections.py:20\u001B[0m, in \u001B[0;36m<module>\u001B[1;34m\u001B[0m\n\u001B[0;32m     17\u001B[0m \u001B[39mimport\u001B[39;00m \u001B[39mnumpy\u001B[39;00m \u001B[39mas\u001B[39;00m \u001B[39mnp\u001B[39;00m\n\u001B[0;32m     19\u001B[0m \u001B[39mimport\u001B[39;00m \u001B[39mmatplotlib\u001B[39;00m \u001B[39mas\u001B[39;00m \u001B[39mmpl\u001B[39;00m\n\u001B[1;32m---> 20\u001B[0m \u001B[39mfrom\u001B[39;00m \u001B[39m.\u001B[39;00m \u001B[39mimport\u001B[39;00m (_api, _path, artist, cbook, cm, colors \u001B[39mas\u001B[39;00m mcolors, docstring,\n\u001B[0;32m     21\u001B[0m                hatch \u001B[39mas\u001B[39;00m mhatch, lines \u001B[39mas\u001B[39;00m mlines, path \u001B[39mas\u001B[39;00m mpath, transforms)\n\u001B[0;32m     22\u001B[0m \u001B[39mfrom\u001B[39;00m \u001B[39m.\u001B[39;00m\u001B[39m_enums\u001B[39;00m \u001B[39mimport\u001B[39;00m JoinStyle, CapStyle\n\u001B[0;32m     25\u001B[0m \u001B[39m# \"color\" is excluded; it is a compound setter, and its docstring differs\u001B[39;00m\n\u001B[0;32m     26\u001B[0m \u001B[39m# in LineCollection.\u001B[39;00m\n",
      "File \u001B[1;32mc:\\Users\\mehul chauhan\\AppData\\Local\\Programs\\Python\\Python310\\lib\\site-packages\\matplotlib\\lines.py:11\u001B[0m, in \u001B[0;36m<module>\u001B[1;34m\u001B[0m\n\u001B[0;32m      8\u001B[0m \u001B[39mimport\u001B[39;00m \u001B[39mnumpy\u001B[39;00m \u001B[39mas\u001B[39;00m \u001B[39mnp\u001B[39;00m\n\u001B[0;32m     10\u001B[0m \u001B[39mimport\u001B[39;00m \u001B[39mmatplotlib\u001B[39;00m \u001B[39mas\u001B[39;00m \u001B[39mmpl\u001B[39;00m\n\u001B[1;32m---> 11\u001B[0m \u001B[39mfrom\u001B[39;00m \u001B[39m.\u001B[39;00m \u001B[39mimport\u001B[39;00m _api, artist, cbook, colors \u001B[39mas\u001B[39;00m mcolors, docstring, rcParams\n\u001B[0;32m     12\u001B[0m \u001B[39mfrom\u001B[39;00m \u001B[39m.\u001B[39;00m\u001B[39martist\u001B[39;00m \u001B[39mimport\u001B[39;00m Artist, allow_rasterization\n\u001B[0;32m     13\u001B[0m \u001B[39mfrom\u001B[39;00m \u001B[39m.\u001B[39;00m\u001B[39mcbook\u001B[39;00m \u001B[39mimport\u001B[39;00m (\n\u001B[0;32m     14\u001B[0m     _to_unmasked_float_array, ls_mapper, ls_mapper_r, STEP_LOOKUP_MAP)\n",
      "\u001B[1;31mImportError\u001B[0m: cannot import name 'artist' from 'matplotlib' (c:\\Users\\mehul chauhan\\AppData\\Local\\Programs\\Python\\Python310\\lib\\site-packages\\matplotlib\\__init__.py)"
     ]
    }
   ],
   "source": [
    "import pandas as pd\n",
    "import seaborn as sns\n",
    "from matplotlib import pyplot as plt"
   ]
  },
  {
   "cell_type": "code",
   "execution_count": null,
   "id": "df208eb0",
   "metadata": {
    "pycharm": {
     "name": "#%%\n"
    }
   },
   "outputs": [],
   "source": [
    "housing = pd.read_csv(\"train.csv\")"
   ]
  },
  {
   "cell_type": "code",
   "execution_count": null,
   "id": "33bee94b",
   "metadata": {
    "pycharm": {
     "name": "#%%\n"
    }
   },
   "outputs": [
    {
     "data": {
      "text/html": [
       "<div>\n",
       "<style scoped>\n",
       "    .dataframe tbody tr th:only-of-type {\n",
       "        vertical-align: middle;\n",
       "    }\n",
       "\n",
       "    .dataframe tbody tr th {\n",
       "        vertical-align: top;\n",
       "    }\n",
       "\n",
       "    .dataframe thead th {\n",
       "        text-align: right;\n",
       "    }\n",
       "</style>\n",
       "<table border=\"1\" class=\"dataframe\">\n",
       "  <thead>\n",
       "    <tr style=\"text-align: right;\">\n",
       "      <th></th>\n",
       "      <th>POSTED_BY</th>\n",
       "      <th>UNDER_CONSTRUCTION</th>\n",
       "      <th>RERA</th>\n",
       "      <th>BHK_NO.</th>\n",
       "      <th>BHK_OR_RK</th>\n",
       "      <th>SQUARE_FT</th>\n",
       "      <th>READY_TO_MOVE</th>\n",
       "      <th>RESALE</th>\n",
       "      <th>ADDRESS</th>\n",
       "      <th>LONGITUDE</th>\n",
       "      <th>LATITUDE</th>\n",
       "      <th>TARGET(PRICE_IN_LACS)</th>\n",
       "    </tr>\n",
       "  </thead>\n",
       "  <tbody>\n",
       "    <tr>\n",
       "      <th>0</th>\n",
       "      <td>Owner</td>\n",
       "      <td>0</td>\n",
       "      <td>0</td>\n",
       "      <td>2</td>\n",
       "      <td>BHK</td>\n",
       "      <td>1300.236407</td>\n",
       "      <td>1</td>\n",
       "      <td>1</td>\n",
       "      <td>Ksfc Layout,Bangalore</td>\n",
       "      <td>12.969910</td>\n",
       "      <td>77.597960</td>\n",
       "      <td>55.0</td>\n",
       "    </tr>\n",
       "    <tr>\n",
       "      <th>1</th>\n",
       "      <td>Dealer</td>\n",
       "      <td>0</td>\n",
       "      <td>0</td>\n",
       "      <td>2</td>\n",
       "      <td>BHK</td>\n",
       "      <td>1275.000000</td>\n",
       "      <td>1</td>\n",
       "      <td>1</td>\n",
       "      <td>Vishweshwara Nagar,Mysore</td>\n",
       "      <td>12.274538</td>\n",
       "      <td>76.644605</td>\n",
       "      <td>51.0</td>\n",
       "    </tr>\n",
       "    <tr>\n",
       "      <th>2</th>\n",
       "      <td>Owner</td>\n",
       "      <td>0</td>\n",
       "      <td>0</td>\n",
       "      <td>2</td>\n",
       "      <td>BHK</td>\n",
       "      <td>933.159722</td>\n",
       "      <td>1</td>\n",
       "      <td>1</td>\n",
       "      <td>Jigani,Bangalore</td>\n",
       "      <td>12.778033</td>\n",
       "      <td>77.632191</td>\n",
       "      <td>43.0</td>\n",
       "    </tr>\n",
       "    <tr>\n",
       "      <th>3</th>\n",
       "      <td>Owner</td>\n",
       "      <td>0</td>\n",
       "      <td>1</td>\n",
       "      <td>2</td>\n",
       "      <td>BHK</td>\n",
       "      <td>929.921143</td>\n",
       "      <td>1</td>\n",
       "      <td>1</td>\n",
       "      <td>Sector-1 Vaishali,Ghaziabad</td>\n",
       "      <td>28.642300</td>\n",
       "      <td>77.344500</td>\n",
       "      <td>62.5</td>\n",
       "    </tr>\n",
       "    <tr>\n",
       "      <th>4</th>\n",
       "      <td>Dealer</td>\n",
       "      <td>1</td>\n",
       "      <td>0</td>\n",
       "      <td>2</td>\n",
       "      <td>BHK</td>\n",
       "      <td>999.009247</td>\n",
       "      <td>0</td>\n",
       "      <td>1</td>\n",
       "      <td>New Town,Kolkata</td>\n",
       "      <td>22.592200</td>\n",
       "      <td>88.484911</td>\n",
       "      <td>60.5</td>\n",
       "    </tr>\n",
       "  </tbody>\n",
       "</table>\n",
       "</div>"
      ],
      "text/plain": [
       "  POSTED_BY  UNDER_CONSTRUCTION  RERA  BHK_NO. BHK_OR_RK    SQUARE_FT  \\\n",
       "0     Owner                   0     0        2       BHK  1300.236407   \n",
       "1    Dealer                   0     0        2       BHK  1275.000000   \n",
       "2     Owner                   0     0        2       BHK   933.159722   \n",
       "3     Owner                   0     1        2       BHK   929.921143   \n",
       "4    Dealer                   1     0        2       BHK   999.009247   \n",
       "\n",
       "   READY_TO_MOVE  RESALE                      ADDRESS  LONGITUDE   LATITUDE  \\\n",
       "0              1       1        Ksfc Layout,Bangalore  12.969910  77.597960   \n",
       "1              1       1    Vishweshwara Nagar,Mysore  12.274538  76.644605   \n",
       "2              1       1             Jigani,Bangalore  12.778033  77.632191   \n",
       "3              1       1  Sector-1 Vaishali,Ghaziabad  28.642300  77.344500   \n",
       "4              0       1             New Town,Kolkata  22.592200  88.484911   \n",
       "\n",
       "   TARGET(PRICE_IN_LACS)  \n",
       "0                   55.0  \n",
       "1                   51.0  \n",
       "2                   43.0  \n",
       "3                   62.5  \n",
       "4                   60.5  "
      ]
     },
     "execution_count": 4,
     "metadata": {},
     "output_type": "execute_result"
    }
   ],
   "source": [
    "housing.head()"
   ]
  },
  {
   "cell_type": "code",
   "execution_count": null,
   "id": "31c10823",
   "metadata": {
    "pycharm": {
     "name": "#%%\n"
    }
   },
   "outputs": [],
   "source": [
    "housing.info()"
   ]
  },
  {
   "cell_type": "code",
   "execution_count": null,
   "id": "59d70adb",
   "metadata": {
    "pycharm": {
     "name": "#%%\n"
    }
   },
   "outputs": [
    {
     "ename": "ImportError",
     "evalue": "cannot import name 'artist' from 'matplotlib' (c:\\Users\\mehul chauhan\\AppData\\Local\\Programs\\Python\\Python310\\lib\\site-packages\\matplotlib\\__init__.py)",
     "output_type": "error",
     "traceback": [
      "\u001B[1;31m---------------------------------------------------------------------------\u001B[0m",
      "\u001B[1;31mImportError\u001B[0m                               Traceback (most recent call last)",
      "\u001B[1;32mc:\\Users\\mehul chauhan\\Downloads\\SGP2_FINAL\\HOUSE PRICE PREDICTOR .ipynb Cell 5\u001B[0m in \u001B[0;36m<cell line: 1>\u001B[1;34m()\u001B[0m\n\u001B[1;32m----> <a href='vscode-notebook-cell:/c%3A/Users/mehul%20chauhan/Downloads/SGP2_FINAL/HOUSE%20PRICE%20PREDICTOR%20.ipynb#W4sZmlsZQ%3D%3D?line=0'>1</a>\u001B[0m \u001B[39mimport\u001B[39;00m \u001B[39mmatplotlib\u001B[39;00m\u001B[39m.\u001B[39;00m\u001B[39mpyplot\u001B[39;00m \u001B[39mas\u001B[39;00m \u001B[39mplt\u001B[39;00m\n\u001B[0;32m      <a href='vscode-notebook-cell:/c%3A/Users/mehul%20chauhan/Downloads/SGP2_FINAL/HOUSE%20PRICE%20PREDICTOR%20.ipynb#W4sZmlsZQ%3D%3D?line=2'>3</a>\u001B[0m plt\u001B[39m.\u001B[39mfigure(figsize \u001B[39m=\u001B[39m (\u001B[39m5\u001B[39m,\u001B[39m4\u001B[39m))\n\u001B[0;32m      <a href='vscode-notebook-cell:/c%3A/Users/mehul%20chauhan/Downloads/SGP2_FINAL/HOUSE%20PRICE%20PREDICTOR%20.ipynb#W4sZmlsZQ%3D%3D?line=3'>4</a>\u001B[0m sns\u001B[39m.\u001B[39mcountplot(data \u001B[39m=\u001B[39m housing, x \u001B[39m=\u001B[39m \u001B[39m'\u001B[39m\u001B[39mPOSTED_BY\u001B[39m\u001B[39m'\u001B[39m)\n",
      "File \u001B[1;32mc:\\Users\\mehul chauhan\\AppData\\Local\\Programs\\Python\\Python310\\lib\\site-packages\\matplotlib\\pyplot.py:49\u001B[0m, in \u001B[0;36m<module>\u001B[1;34m\u001B[0m\n\u001B[0;32m     47\u001B[0m \u001B[39mfrom\u001B[39;00m \u001B[39mcycler\u001B[39;00m \u001B[39mimport\u001B[39;00m cycler\n\u001B[0;32m     48\u001B[0m \u001B[39mimport\u001B[39;00m \u001B[39mmatplotlib\u001B[39;00m\n\u001B[1;32m---> 49\u001B[0m \u001B[39mimport\u001B[39;00m \u001B[39mmatplotlib\u001B[39;00m\u001B[39m.\u001B[39;00m\u001B[39mcolorbar\u001B[39;00m\n\u001B[0;32m     50\u001B[0m \u001B[39mimport\u001B[39;00m \u001B[39mmatplotlib\u001B[39;00m\u001B[39m.\u001B[39;00m\u001B[39mimage\u001B[39;00m\n\u001B[0;32m     51\u001B[0m \u001B[39mfrom\u001B[39;00m \u001B[39mmatplotlib\u001B[39;00m \u001B[39mimport\u001B[39;00m _api\n",
      "File \u001B[1;32mc:\\Users\\mehul chauhan\\AppData\\Local\\Programs\\Python\\Python310\\lib\\site-packages\\matplotlib\\colorbar.py:21\u001B[0m, in \u001B[0;36m<module>\u001B[1;34m\u001B[0m\n\u001B[0;32m     18\u001B[0m \u001B[39mimport\u001B[39;00m \u001B[39mnumpy\u001B[39;00m \u001B[39mas\u001B[39;00m \u001B[39mnp\u001B[39;00m\n\u001B[0;32m     20\u001B[0m \u001B[39mimport\u001B[39;00m \u001B[39mmatplotlib\u001B[39;00m \u001B[39mas\u001B[39;00m \u001B[39mmpl\u001B[39;00m\n\u001B[1;32m---> 21\u001B[0m \u001B[39mfrom\u001B[39;00m \u001B[39mmatplotlib\u001B[39;00m \u001B[39mimport\u001B[39;00m _api, collections, cm, colors, contour, ticker\n\u001B[0;32m     22\u001B[0m \u001B[39mimport\u001B[39;00m \u001B[39mmatplotlib\u001B[39;00m\u001B[39m.\u001B[39;00m\u001B[39martist\u001B[39;00m \u001B[39mas\u001B[39;00m \u001B[39mmartist\u001B[39;00m\n\u001B[0;32m     23\u001B[0m \u001B[39mimport\u001B[39;00m \u001B[39mmatplotlib\u001B[39;00m\u001B[39m.\u001B[39;00m\u001B[39mpatches\u001B[39;00m \u001B[39mas\u001B[39;00m \u001B[39mmpatches\u001B[39;00m\n",
      "File \u001B[1;32mc:\\Users\\mehul chauhan\\AppData\\Local\\Programs\\Python\\Python310\\lib\\site-packages\\matplotlib\\collections.py:20\u001B[0m, in \u001B[0;36m<module>\u001B[1;34m\u001B[0m\n\u001B[0;32m     17\u001B[0m \u001B[39mimport\u001B[39;00m \u001B[39mnumpy\u001B[39;00m \u001B[39mas\u001B[39;00m \u001B[39mnp\u001B[39;00m\n\u001B[0;32m     19\u001B[0m \u001B[39mimport\u001B[39;00m \u001B[39mmatplotlib\u001B[39;00m \u001B[39mas\u001B[39;00m \u001B[39mmpl\u001B[39;00m\n\u001B[1;32m---> 20\u001B[0m \u001B[39mfrom\u001B[39;00m \u001B[39m.\u001B[39;00m \u001B[39mimport\u001B[39;00m (_api, _path, artist, cbook, cm, colors \u001B[39mas\u001B[39;00m mcolors, docstring,\n\u001B[0;32m     21\u001B[0m                hatch \u001B[39mas\u001B[39;00m mhatch, lines \u001B[39mas\u001B[39;00m mlines, path \u001B[39mas\u001B[39;00m mpath, transforms)\n\u001B[0;32m     22\u001B[0m \u001B[39mfrom\u001B[39;00m \u001B[39m.\u001B[39;00m\u001B[39m_enums\u001B[39;00m \u001B[39mimport\u001B[39;00m JoinStyle, CapStyle\n\u001B[0;32m     25\u001B[0m \u001B[39m# \"color\" is excluded; it is a compound setter, and its docstring differs\u001B[39;00m\n\u001B[0;32m     26\u001B[0m \u001B[39m# in LineCollection.\u001B[39;00m\n",
      "File \u001B[1;32mc:\\Users\\mehul chauhan\\AppData\\Local\\Programs\\Python\\Python310\\lib\\site-packages\\matplotlib\\lines.py:11\u001B[0m, in \u001B[0;36m<module>\u001B[1;34m\u001B[0m\n\u001B[0;32m      8\u001B[0m \u001B[39mimport\u001B[39;00m \u001B[39mnumpy\u001B[39;00m \u001B[39mas\u001B[39;00m \u001B[39mnp\u001B[39;00m\n\u001B[0;32m     10\u001B[0m \u001B[39mimport\u001B[39;00m \u001B[39mmatplotlib\u001B[39;00m \u001B[39mas\u001B[39;00m \u001B[39mmpl\u001B[39;00m\n\u001B[1;32m---> 11\u001B[0m \u001B[39mfrom\u001B[39;00m \u001B[39m.\u001B[39;00m \u001B[39mimport\u001B[39;00m _api, artist, cbook, colors \u001B[39mas\u001B[39;00m mcolors, docstring, rcParams\n\u001B[0;32m     12\u001B[0m \u001B[39mfrom\u001B[39;00m \u001B[39m.\u001B[39;00m\u001B[39martist\u001B[39;00m \u001B[39mimport\u001B[39;00m Artist, allow_rasterization\n\u001B[0;32m     13\u001B[0m \u001B[39mfrom\u001B[39;00m \u001B[39m.\u001B[39;00m\u001B[39mcbook\u001B[39;00m \u001B[39mimport\u001B[39;00m (\n\u001B[0;32m     14\u001B[0m     _to_unmasked_float_array, ls_mapper, ls_mapper_r, STEP_LOOKUP_MAP)\n",
      "\u001B[1;31mImportError\u001B[0m: cannot import name 'artist' from 'matplotlib' (c:\\Users\\mehul chauhan\\AppData\\Local\\Programs\\Python\\Python310\\lib\\site-packages\\matplotlib\\__init__.py)"
     ]
    }
   ],
   "source": [
    "import matplotlib.pyplot as plt\n",
    "\n",
    "plt.figure(figsize = (5,4))\n",
    "sns.countplot(data = housing, x = 'POSTED_BY')\n",
    "plt.show()\n",
    "plt.figure(figsize = (5,4))\n",
    "sns.countplot(data = housing, x = 'UNDER_CONSTRUCTION')\n",
    "plt.show()\n"
   ]
  },
  {
   "cell_type": "code",
   "execution_count": null,
   "id": "c9f5e3c3",
   "metadata": {
    "pycharm": {
     "name": "#%%\n"
    }
   },
   "outputs": [],
   "source": [
    "import numpy as np\n",
    "for column in housing:\n",
    "    uniq_val = np.unique(housing[column])\n",
    "    np_val = len(uniq_val)\n",
    "    if np_val < 10:\n",
    "        print(\"The number of values for feature {} is: {} -- {}\".format(column, np_val, uniq_val))\n",
    "    else:\n",
    "        print(\"The number of values for feature {} is: {}\".format(column, np_val)) "
   ]
  },
  {
   "cell_type": "code",
   "execution_count": null,
   "id": "5f11d6af",
   "metadata": {
    "pycharm": {
     "name": "#%%\n"
    }
   },
   "outputs": [],
   "source": [
    "housing['CITY'] = housing['ADDRESS'].str.split(\",\").str[-1]\n",
    "housing = housing.drop('ADDRESS', axis = 1)"
   ]
  },
  {
   "cell_type": "code",
   "execution_count": null,
   "id": "111fab27",
   "metadata": {
    "pycharm": {
     "name": "#%%\n"
    }
   },
   "outputs": [],
   "source": [
    "housing.hist(bins=50, figsize=(20,15))"
   ]
  },
  {
   "cell_type": "code",
   "execution_count": null,
   "id": "5261959a",
   "metadata": {
    "pycharm": {
     "name": "#%%\n"
    }
   },
   "outputs": [],
   "source": [
    "housing['LONGITUDE'] = np.log(housing['LONGITUDE'] )\n",
    "housing['LATITUDE'] = np.log(housing['LATITUDE'] )"
   ]
  },
  {
   "cell_type": "code",
   "execution_count": null,
   "id": "3c995b47",
   "metadata": {
    "pycharm": {
     "name": "#%%\n"
    }
   },
   "outputs": [],
   "source": [
    "housing.head()"
   ]
  },
  {
   "cell_type": "code",
   "execution_count": null,
   "id": "d1f6caf3",
   "metadata": {
    "pycharm": {
     "name": "#%%\n"
    }
   },
   "outputs": [],
   "source": [
    "def map_city(city):\n",
    "    if city in ['Ahmedabad', 'Bangalore', 'Chennai', 'Delhi', 'Hyderabad', 'Kolkata', 'Mumbai', 'Pune', 'Maharashtra']:\n",
    "        return 'Tier1'\n",
    "    elif city in ['Agra', 'Ajmer', 'Aligarh', 'Amravati', 'Amritsar', 'Asansol', 'Aurangabad', 'Bareilly', \n",
    "                  'Belgaum', 'Bhavnagar', 'Bhiwandi', 'Bhopal', 'Bhubaneswar', 'Bikaner', 'Bilaspur', 'Bokaro Steel City', \n",
    "                  'Chandigarh', 'Coimbatore', 'Cuttack', 'Dehradun', 'Dhanbad', 'Bhilai', 'Durgapur', 'Dindigul', 'Erode', \n",
    "                  'Faridabad', 'Firozabad', 'Ghaziabad', 'Gorakhpur', 'Gulbarga', 'Guntur', 'Gwalior', 'Gurgaon', 'Guwahati', \n",
    "                  'Hamirpur', 'Hubli–Dharwad', 'Indore', 'Jabalpur', 'Jaipur', 'Jalandhar', 'Jammu', 'Jamnagar', 'Jamshedpur', \n",
    "                  'Jhansi', 'Jodhpur', 'Kakinada', 'Kannur', 'Kanpur', 'Karnal', 'Kochi', 'Kolhapur', 'Kollam', 'Kozhikode', \n",
    "                  'Kurnool', 'Ludhiana', 'Lucknow', 'Madurai', 'Malappuram', 'Mathura', 'Mangalore', 'Meerut', 'Moradabad', \n",
    "                  'Mysore', 'Nagpur', 'Nanded', 'Nashik', 'Nellore', 'Noida', 'Patna', 'Pondicherry', 'Purulia', 'Prayagraj', \n",
    "                  'Raipur', 'Rajkot', 'Rajahmundry', 'Ranchi', 'Rourkela', 'Ratlam', 'Salem', 'Sangli', 'Shimla', 'Siliguri', \n",
    "                  'Solapur', 'Srinagar', 'Surat', 'Thanjavur', 'Thiruvananthapuram', 'Thrissur', 'Tiruchirappalli', 'Tirunelveli', \n",
    "                  'Tiruvannamalai', 'Ujjain', 'Bijapur', 'Vadodara', 'Varanasi', 'Vasai-Virar City', 'Vijayawada', 'Visakhapatnam', \n",
    "                  'Vellore', 'Warangal']:\n",
    "        return 'Tier2'\n",
    "    else:\n",
    "        return 'Tier3'\n",
    "    \n",
    "housing['CITY_TIER'] = housing['CITY'].apply(map_city)"
   ]
  },
  {
   "cell_type": "code",
   "execution_count": null,
   "id": "a677afbc",
   "metadata": {
    "pycharm": {
     "name": "#%%\n"
    }
   },
   "outputs": [],
   "source": [
    "housing.head()"
   ]
  },
  {
   "cell_type": "code",
   "execution_count": null,
   "id": "2fa9ace0",
   "metadata": {
    "pycharm": {
     "name": "#%%\n"
    }
   },
   "outputs": [],
   "source": [
    "housing = housing.drop('CITY', axis = 1)"
   ]
  },
  {
   "cell_type": "code",
   "execution_count": null,
   "id": "32c60d6d",
   "metadata": {
    "pycharm": {
     "name": "#%%\n"
    }
   },
   "outputs": [],
   "source": [
    "features = ['POSTED_BY', 'BHK_OR_RK', 'CITY_TIER']\n",
    "new_df = pd.get_dummies(housing, columns = features)"
   ]
  },
  {
   "cell_type": "code",
   "execution_count": null,
   "id": "821e9306",
   "metadata": {
    "pycharm": {
     "name": "#%%\n"
    }
   },
   "outputs": [],
   "source": [
    "new_df.isna().sum()"
   ]
  },
  {
   "cell_type": "code",
   "execution_count": null,
   "id": "e005b0a3",
   "metadata": {
    "pycharm": {
     "name": "#%%\n"
    }
   },
   "outputs": [],
   "source": [
    "new_df.dropna(subset=['LATITUDE'], how='all', inplace=True)\n",
    "new_df.dropna(subset=['LONGITUDE'], how='all', inplace=True)"
   ]
  },
  {
   "cell_type": "code",
   "execution_count": null,
   "id": "ca5186d4",
   "metadata": {
    "pycharm": {
     "name": "#%%\n"
    }
   },
   "outputs": [],
   "source": [
    "from sklearn.model_selection import train_test_split\n",
    "X = new_df.drop('TARGET(PRICE_IN_LACS)', axis = 1)\n",
    "y = new_df['TARGET(PRICE_IN_LACS)']\n",
    "X_train, X_valid, y_train, y_valid = train_test_split(X, y, test_size = 0.3, random_state = 100)"
   ]
  },
  {
   "cell_type": "code",
   "execution_count": null,
   "id": "f175177e",
   "metadata": {
    "pycharm": {
     "name": "#%%\n"
    }
   },
   "outputs": [],
   "source": [
    "X"
   ]
  },
  {
   "cell_type": "code",
   "execution_count": null,
   "id": "faa4a0a1",
   "metadata": {
    "pycharm": {
     "name": "#%%\n"
    }
   },
   "outputs": [],
   "source": [
    "y_train"
   ]
  },
  {
   "cell_type": "code",
   "execution_count": null,
   "id": "690e0c60",
   "metadata": {
    "pycharm": {
     "name": "#%%\n"
    }
   },
   "outputs": [],
   "source": [
    "from sklearn.tree import DecisionTreeClassifier\n",
    "from sklearn.linear_model import LinearRegression\n",
    "from sklearn.tree import DecisionTreeRegressor\n",
    "# from sklearn.preprocessing import LabelEncoder\n",
    "from sklearn.metrics import r2_score\n",
    "# , confusion_matrix, accuracy_score, log_loss, classification_report, mean_squared_error, mean_absolute_error\n",
    "lr = LinearRegression()\n",
    "\n",
    "lr.fit(X_train, y_train)\n",
    "y_pred = lr.predict(X_train)"
   ]
  },
  {
   "cell_type": "code",
   "execution_count": null,
   "id": "78cebfff",
   "metadata": {
    "pycharm": {
     "name": "#%%\n"
    }
   },
   "outputs": [],
   "source": [
    "print(lr.score(X_train, y_train))\n",
    "print(lr.score(X_valid, y_valid))"
   ]
  },
  {
   "cell_type": "code",
   "execution_count": null,
   "id": "d2dac67d",
   "metadata": {
    "pycharm": {
     "name": "#%%\n"
    }
   },
   "outputs": [],
   "source": [
    "from sklearn.ensemble import RandomForestRegressor\n",
    "# from sklearn.metrics import r2_score\n",
    "\n",
    "rf_model = RandomForestRegressor(n_estimators=100, random_state=42)\n",
    "\n",
    "rf_model.fit(X_train, y_train)\n",
    "\n",
    "preds = rf_model.predict(X_valid)\n",
    "\n",
    "print('Random Forest: ', r2_score(y_valid, preds))"
   ]
  },
  {
   "cell_type": "code",
   "execution_count": null,
   "id": "5b3b96e1",
   "metadata": {
    "pycharm": {
     "name": "#%%\n"
    }
   },
   "outputs": [],
   "source": [
    "dt = DecisionTreeRegressor()\n",
    "dt.fit(X_train, y_train)\n",
    "\n",
    "preds = dt.predict(X_train)\n",
    "\n",
    "r2_score(y_train, preds)"
   ]
  },
  {
   "cell_type": "code",
   "execution_count": null,
   "id": "c8579ec9",
   "metadata": {
    "pycharm": {
     "name": "#%%\n"
    }
   },
   "outputs": [],
   "source": [
    "from joblib import dump,load\n",
    "dump(dt, 'desiciontree.joblib')"
   ]
  },
  {
   "cell_type": "code",
   "execution_count": null,
   "id": "1527fea2",
   "metadata": {
    "pycharm": {
     "name": "#%%\n"
    }
   },
   "outputs": [],
   "source": [
    "# from joblib import dump,load\n",
    "# import numpy as np\n",
    "model = load('desiciontree.joblib')\n",
    "features = np.array([[0,0,2,1275.000000,1,1,2.507527,4.339179,0,1,0,1,0,0,1,0]])\n",
    "model.predict(features)"
   ]
  },
  {
   "cell_type": "code",
   "execution_count": null,
   "id": "7b393d4a",
   "metadata": {
    "pycharm": {
     "name": "#%%\n"
    }
   },
   "outputs": [],
   "source": [
    "import pickle\n",
    "file = open('SGP.pkl','wb')\n",
    "pickle.dump(dt , file)"
   ]
  },
  {
   "cell_type": "code",
   "execution_count": null,
   "id": "66991dbf",
   "metadata": {
    "pycharm": {
     "name": "#%%\n"
    }
   },
   "outputs": [],
   "source": []
  }
 ],
 "metadata": {
  "kernelspec": {
   "display_name": "Python 3 (ipykernel)",
   "language": "python",
   "name": "python3"
  },
  "language_info": {
   "codemirror_mode": {
    "name": "ipython",
    "version": 3
   },
   "file_extension": ".py",
   "mimetype": "text/x-python",
   "name": "python",
   "nbconvert_exporter": "python",
   "pygments_lexer": "ipython3",
   "version": "3.10.6"
  }
 },
 "nbformat": 4,
 "nbformat_minor": 5
}